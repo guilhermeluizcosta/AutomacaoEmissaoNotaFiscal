{
 "cells": [
  {
   "cell_type": "code",
   "execution_count": 1,
   "metadata": {},
   "outputs": [],
   "source": [
    "#abrindo o navegador\n",
    "from selenium import webdriver\n",
    "from selenium.webdriver.chrome.service import Service\n",
    "from webdriver_manager.chrome import ChromeDriverManager\n",
    "from selenium.webdriver.common.by import By\n",
    "import os\n",
    "\n",
    "servico = Service(ChromeDriverManager().install())\n",
    "navegador = webdriver.Chrome(service=servico)\n",
    "\n",
    "\n",
    "caminho = os.getcwd()\n",
    "arquivo = caminho + r\"\\login.html\"\n",
    "navegador.get(arquivo)"
   ]
  },
  {
   "cell_type": "code",
   "execution_count": 2,
   "metadata": {},
   "outputs": [],
   "source": [
    "# fazer login\n",
    "navegador.find_element(By.XPATH,'/html/body/div/form/input[1]').clear()\n",
    "navegador.find_element(By.XPATH,'/html/body/div/form/input[1]').send_keys('Guilherme')\n",
    "\n",
    "# fazer senha\n",
    "navegador.find_element(By.XPATH,'/html/body/div/form/input[2]').clear()\n",
    "navegador.find_element(By.XPATH,'/html/body/div/form/input[2]').send_keys('12345678')\n",
    "\n",
    "\n",
    "navegador.find_element(By.XPATH,'/html/body/div/form/button').click()"
   ]
  },
  {
   "cell_type": "code",
   "execution_count": 3,
   "metadata": {},
   "outputs": [],
   "source": [
    "# nome\n",
    "navegador.find_element(By.NAME,'nome').clear()\n",
    "navegador.find_element(By.NAME,'nome').send_keys('Guilherme Luiz')\n",
    "\n",
    "#endereço \n",
    "navegador.find_element(By.NAME,'endereco').clear()\n",
    "navegador.find_element(By.NAME,'endereco').send_keys('Rua 123')\n",
    "\n",
    "#bairro\n",
    "navegador.find_element(By.NAME,'bairro').clear()\n",
    "navegador.find_element(By.NAME,'bairro').send_keys('Bairro anonimo')\n",
    "\n",
    "#municipio\n",
    "navegador.find_element(By.NAME,'municipio').clear()\n",
    "navegador.find_element(By.NAME,'municipio').send_keys('Aleatorio')\n",
    "\n",
    "#cnpj\n",
    "navegador.find_element(By.NAME,'cep').clear()\n",
    "navegador.find_element(By.NAME,'cep').send_keys('12950310')\n",
    "\n",
    "#uf \n",
    "navegador.find_element(By.NAME,'uf').send_keys('MG')\n",
    "\n",
    "#CPF/CNPJ\n",
    "navegador.find_element(By.NAME, 'cnpj').clear()\n",
    "navegador.find_element(By.NAME, 'cnpj').send_keys('00000000000')\n",
    "\n",
    "#inscricao estadual\n",
    "navegador.find_element(By.NAME, 'inscricao').clear()\n",
    "navegador.find_element(By.NAME, 'inscricao').send_keys('000.000.000.000')\n",
    "\n",
    "\n",
    "# descrição\n",
    "navegador.find_element(By.NAME, 'descricao').clear()\n",
    "navegador.find_element(By.NAME, 'descricao').send_keys('Descricao Item')\n",
    "\n",
    "# quantidade\n",
    "navegador.find_element(By.NAME, 'quantidade').clear()\n",
    "navegador.find_element(By.NAME, 'quantidade').send_keys('123')\n",
    "\n",
    "# valor unitario\n",
    "navegador.find_element(By.NAME, 'valor_unitario').clear()\n",
    "navegador.find_element(By.NAME, 'valor_unitario').send_keys('123')\n",
    "\n",
    "# valor total\n",
    "navegador.find_element(By.NAME, 'total').clear()\n",
    "navegador.find_element(By.NAME, 'total').send_keys('123,00')\n",
    "\n",
    "#emitir notal\n",
    "navegador.find_element(By.CLASS_NAME,'registerbtn').click()"
   ]
  }
 ],
 "metadata": {
  "kernelspec": {
   "display_name": "Python 3",
   "language": "python",
   "name": "python3"
  },
  "language_info": {
   "codemirror_mode": {
    "name": "ipython",
    "version": 3
   },
   "file_extension": ".py",
   "mimetype": "text/x-python",
   "name": "python",
   "nbconvert_exporter": "python",
   "pygments_lexer": "ipython3",
   "version": "3.12.3"
  }
 },
 "nbformat": 4,
 "nbformat_minor": 2
}
