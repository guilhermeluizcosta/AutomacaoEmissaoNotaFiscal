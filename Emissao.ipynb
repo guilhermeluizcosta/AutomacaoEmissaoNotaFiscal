{
 "cells": [
  {
   "cell_type": "code",
   "execution_count": 2,
   "metadata": {},
   "outputs": [],
   "source": [
    "#abrindo o navegador\n",
    "from selenium import webdriver\n",
    "from selenium.webdriver.chrome.service import Service\n",
    "from webdriver_manager.chrome import ChromeDriverManager\n",
    "from selenium.webdriver.common.by import By\n",
    "import os\n",
    "\n",
    "servico = Service(ChromeDriverManager().install())\n",
    "navegador = webdriver.Chrome(service=servico)\n",
    "\n",
    "\n",
    "caminho = os.getcwd()\n",
    "arquivo = caminho + r\"\\login.html\"\n",
    "navegador.get(arquivo)"
   ]
  },
  {
   "cell_type": "code",
   "execution_count": 3,
   "metadata": {},
   "outputs": [],
   "source": [
    "# fazer login\n",
    "navegador.find_element(By.XPATH,'/html/body/div/form/input[1]').clear()\n",
    "navegador.find_element(By.XPATH,'/html/body/div/form/input[1]').send_keys('Guilherme')\n",
    "\n",
    "# fazer senha\n",
    "navegador.find_element(By.XPATH,'/html/body/div/form/input[2]').clear()\n",
    "navegador.find_element(By.XPATH,'/html/body/div/form/input[2]').send_keys('12345678')\n",
    "\n",
    "\n",
    "navegador.find_element(By.XPATH,'/html/body/div/form/button').click()"
   ]
  }
 ],
 "metadata": {
  "kernelspec": {
   "display_name": "Python 3",
   "language": "python",
   "name": "python3"
  },
  "language_info": {
   "codemirror_mode": {
    "name": "ipython",
    "version": 3
   },
   "file_extension": ".py",
   "mimetype": "text/x-python",
   "name": "python",
   "nbconvert_exporter": "python",
   "pygments_lexer": "ipython3",
   "version": "3.12.3"
  }
 },
 "nbformat": 4,
 "nbformat_minor": 2
}
